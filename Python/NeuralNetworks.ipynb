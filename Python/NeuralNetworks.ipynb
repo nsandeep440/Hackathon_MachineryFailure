{
 "cells": [
  {
   "cell_type": "code",
   "execution_count": 375,
   "metadata": {
    "collapsed": true
   },
   "outputs": [],
   "source": [
    "import pandas as pd\n",
    "import numpy as np\n"
   ]
  },
  {
   "cell_type": "code",
   "execution_count": 376,
   "metadata": {
    "collapsed": true
   },
   "outputs": [],
   "source": [
    "# import train data\n",
    "\n",
    "trainDataOriginal = pd.read_csv(\"Train.csv\")\n",
    "trainAdditional = pd.read_csv(\"Train_AdditionalData.csv\")\n",
    "testOriginal = pd.read_csv(\"Test.csv\")\n",
    "testAdditional = pd.read_csv(\"Test_AdditionalData.csv\")\n"
   ]
  },
  {
   "cell_type": "code",
   "execution_count": 377,
   "metadata": {},
   "outputs": [
    {
     "data": {
      "text/html": [
       "<div>\n",
       "<style>\n",
       "    .dataframe thead tr:only-child th {\n",
       "        text-align: right;\n",
       "    }\n",
       "\n",
       "    .dataframe thead th {\n",
       "        text-align: left;\n",
       "    }\n",
       "\n",
       "    .dataframe tbody tr th {\n",
       "        vertical-align: top;\n",
       "    }\n",
       "</style>\n",
       "<table border=\"1\" class=\"dataframe\">\n",
       "  <thead>\n",
       "    <tr style=\"text-align: right;\">\n",
       "      <th></th>\n",
       "      <th>TestA</th>\n",
       "      <th>TestB</th>\n",
       "    </tr>\n",
       "  </thead>\n",
       "  <tbody>\n",
       "    <tr>\n",
       "      <th>0</th>\n",
       "      <td>1.0</td>\n",
       "      <td>1</td>\n",
       "    </tr>\n",
       "    <tr>\n",
       "      <th>1</th>\n",
       "      <td>2.0</td>\n",
       "      <td>3</td>\n",
       "    </tr>\n",
       "    <tr>\n",
       "      <th>2</th>\n",
       "      <td>3.0</td>\n",
       "      <td>4</td>\n",
       "    </tr>\n",
       "    <tr>\n",
       "      <th>3</th>\n",
       "      <td>4.0</td>\n",
       "      <td>5</td>\n",
       "    </tr>\n",
       "    <tr>\n",
       "      <th>4</th>\n",
       "      <td>6.0</td>\n",
       "      <td>6</td>\n",
       "    </tr>\n",
       "  </tbody>\n",
       "</table>\n",
       "</div>"
      ],
      "text/plain": [
       "   TestA  TestB\n",
       "0    1.0      1\n",
       "1    2.0      3\n",
       "2    3.0      4\n",
       "3    4.0      5\n",
       "4    6.0      6"
      ]
     },
     "execution_count": 377,
     "metadata": {},
     "output_type": "execute_result"
    }
   ],
   "source": [
    "#Describe gives statistical information about numerical columns in the dataset\n",
    "trainDataOriginal.describe()\n",
    "trainAdditional.head()"
   ]
  },
  {
   "cell_type": "markdown",
   "metadata": {},
   "source": [
    "Combine TestA and TextB with intersected values of original ID's with 1 or 0"
   ]
  },
  {
   "cell_type": "code",
   "execution_count": 378,
   "metadata": {
    "scrolled": true
   },
   "outputs": [],
   "source": [
    "#type(trainDataOriginal)\n",
    "def getList(col):\n",
    "    tA = set(col)\n",
    "    tA_l = {x for x in tA if x==x}\n",
    "    return list(tA_l)\n",
    "\n",
    "def intersection(df):\n",
    "    testA = getList(df.TestA)\n",
    "    #print(testA)\n",
    "    testB = getList(df.TestB)\n",
    "    #print('---------------')\n",
    "    #print(testB)\n",
    "    interAB = pd.Series(np.intersect1d(testA,testB))\n",
    "    return interAB\n",
    "common = intersection(trainAdditional)\n",
    "#print(common)\n",
    "    \n",
    "#val = np.intersect1d(ar1=pd.Series(tA), ar2=pd.Series(tB))\n",
    "#val\n"
   ]
  },
  {
   "cell_type": "code",
   "execution_count": null,
   "metadata": {
    "collapsed": true
   },
   "outputs": [],
   "source": []
  },
  {
   "cell_type": "code",
   "execution_count": 379,
   "metadata": {},
   "outputs": [],
   "source": [
    "def testedResults(tIDs, listOfIds):\n",
    "    idslist = []\n",
    "    for idval in tIDs:\n",
    "        if idval in listOfIds:\n",
    "            idslist.append(\"1\")\n",
    "        else:\n",
    "            idslist.append(\"0\")\n",
    "    return idslist\n",
    "\n",
    "#tID = getList(trainDataOriginal.ID)\n",
    "#tAB = testedResults(tID, getList(common))\n",
    "\n",
    "def addTestsToData(dataSet, additionalData):\n",
    "    common = intersection(additionalData)\n",
    "    tID = getList(dataSet.ID)\n",
    "    tAB = testedResults(tID, getList(common))\n",
    "    dict = {\"tested\": tAB}\n",
    "    df = pd.DataFrame.from_dict(dict)\n",
    "    #dfMerged = pd.merge(dataSet, df)\n",
    "    dataSet[\"tested\"] = df.tested\n",
    "    return dataSet\n"
   ]
  },
  {
   "cell_type": "code",
   "execution_count": 380,
   "metadata": {},
   "outputs": [],
   "source": [
    "trainData = addTestsToData(trainDataOriginal, trainAdditional)"
   ]
  },
  {
   "cell_type": "code",
   "execution_count": 381,
   "metadata": {
    "collapsed": true
   },
   "outputs": [],
   "source": []
  },
  {
   "cell_type": "code",
   "execution_count": 382,
   "metadata": {
    "scrolled": true
   },
   "outputs": [
    {
     "data": {
      "text/html": [
       "<div>\n",
       "<style>\n",
       "    .dataframe thead tr:only-child th {\n",
       "        text-align: right;\n",
       "    }\n",
       "\n",
       "    .dataframe thead th {\n",
       "        text-align: left;\n",
       "    }\n",
       "\n",
       "    .dataframe tbody tr th {\n",
       "        vertical-align: top;\n",
       "    }\n",
       "</style>\n",
       "<table border=\"1\" class=\"dataframe\">\n",
       "  <thead>\n",
       "    <tr style=\"text-align: right;\">\n",
       "      <th></th>\n",
       "      <th>ID</th>\n",
       "      <th>y</th>\n",
       "      <th>Number of Cylinders</th>\n",
       "      <th>material grade</th>\n",
       "      <th>Lubrication</th>\n",
       "      <th>Valve Type</th>\n",
       "      <th>Bearing Vendor</th>\n",
       "      <th>Fuel Type</th>\n",
       "      <th>Compression ratio</th>\n",
       "      <th>cam arrangement</th>\n",
       "      <th>...</th>\n",
       "      <th>Cylinder deactivation</th>\n",
       "      <th>Direct injection</th>\n",
       "      <th>main bearing type</th>\n",
       "      <th>displacement</th>\n",
       "      <th>piston type</th>\n",
       "      <th>Max. Torque</th>\n",
       "      <th>Peak Power</th>\n",
       "      <th>Crankshaft Design</th>\n",
       "      <th>Liner Design</th>\n",
       "      <th>tested</th>\n",
       "    </tr>\n",
       "  </thead>\n",
       "  <tbody>\n",
       "    <tr>\n",
       "      <th>0</th>\n",
       "      <td>1</td>\n",
       "      <td>pass</td>\n",
       "      <td>6.0</td>\n",
       "      <td>a</td>\n",
       "      <td>L4</td>\n",
       "      <td>C</td>\n",
       "      <td>V4</td>\n",
       "      <td>gasoline</td>\n",
       "      <td>low</td>\n",
       "      <td>SOHC</td>\n",
       "      <td>...</td>\n",
       "      <td>No</td>\n",
       "      <td>Yes</td>\n",
       "      <td>Roller</td>\n",
       "      <td>high</td>\n",
       "      <td>linear</td>\n",
       "      <td>high</td>\n",
       "      <td>high</td>\n",
       "      <td>CD2</td>\n",
       "      <td>LD1</td>\n",
       "      <td>1</td>\n",
       "    </tr>\n",
       "    <tr>\n",
       "      <th>1</th>\n",
       "      <td>2</td>\n",
       "      <td>fail</td>\n",
       "      <td>6.0</td>\n",
       "      <td>b</td>\n",
       "      <td>L4</td>\n",
       "      <td>C</td>\n",
       "      <td>V3</td>\n",
       "      <td>gasoline</td>\n",
       "      <td>high</td>\n",
       "      <td>SOHC</td>\n",
       "      <td>...</td>\n",
       "      <td>No</td>\n",
       "      <td>Yes</td>\n",
       "      <td>Roller</td>\n",
       "      <td>high</td>\n",
       "      <td>linear</td>\n",
       "      <td>high</td>\n",
       "      <td>high</td>\n",
       "      <td>CD1</td>\n",
       "      <td>LD1</td>\n",
       "      <td>0</td>\n",
       "    </tr>\n",
       "    <tr>\n",
       "      <th>2</th>\n",
       "      <td>3</td>\n",
       "      <td>pass</td>\n",
       "      <td>4.0</td>\n",
       "      <td>NaN</td>\n",
       "      <td>L3</td>\n",
       "      <td>D</td>\n",
       "      <td>V2</td>\n",
       "      <td>gasoline</td>\n",
       "      <td>high</td>\n",
       "      <td>SOHC</td>\n",
       "      <td>...</td>\n",
       "      <td>Yes</td>\n",
       "      <td>Yes</td>\n",
       "      <td>Roller</td>\n",
       "      <td>high</td>\n",
       "      <td>linear</td>\n",
       "      <td>high</td>\n",
       "      <td>high</td>\n",
       "      <td>CD1</td>\n",
       "      <td>LD1</td>\n",
       "      <td>1</td>\n",
       "    </tr>\n",
       "    <tr>\n",
       "      <th>3</th>\n",
       "      <td>4</td>\n",
       "      <td>pass</td>\n",
       "      <td>4.0</td>\n",
       "      <td>f</td>\n",
       "      <td>L2</td>\n",
       "      <td>D</td>\n",
       "      <td>NaN</td>\n",
       "      <td>gasoline</td>\n",
       "      <td>low</td>\n",
       "      <td>SOHC</td>\n",
       "      <td>...</td>\n",
       "      <td>Yes</td>\n",
       "      <td>Yes</td>\n",
       "      <td>Roller</td>\n",
       "      <td>high</td>\n",
       "      <td>linear</td>\n",
       "      <td>high</td>\n",
       "      <td>high</td>\n",
       "      <td>CD1</td>\n",
       "      <td>LD1</td>\n",
       "      <td>1</td>\n",
       "    </tr>\n",
       "    <tr>\n",
       "      <th>4</th>\n",
       "      <td>5</td>\n",
       "      <td>fail</td>\n",
       "      <td>8.0</td>\n",
       "      <td>d</td>\n",
       "      <td>L2</td>\n",
       "      <td>NaN</td>\n",
       "      <td>V2</td>\n",
       "      <td>gasoline</td>\n",
       "      <td>high</td>\n",
       "      <td>SOHC</td>\n",
       "      <td>...</td>\n",
       "      <td>No</td>\n",
       "      <td>Yes</td>\n",
       "      <td>Roller</td>\n",
       "      <td>high</td>\n",
       "      <td>linear</td>\n",
       "      <td>high</td>\n",
       "      <td>high</td>\n",
       "      <td>CD1</td>\n",
       "      <td>LD2</td>\n",
       "      <td>0</td>\n",
       "    </tr>\n",
       "  </tbody>\n",
       "</table>\n",
       "<p>5 rows × 23 columns</p>\n",
       "</div>"
      ],
      "text/plain": [
       "   ID     y  Number of Cylinders material grade Lubrication Valve Type  \\\n",
       "0   1  pass                  6.0              a          L4          C   \n",
       "1   2  fail                  6.0              b          L4          C   \n",
       "2   3  pass                  4.0            NaN          L3          D   \n",
       "3   4  pass                  4.0              f          L2          D   \n",
       "4   5  fail                  8.0              d          L2        NaN   \n",
       "\n",
       "  Bearing Vendor Fuel Type Compression ratio cam arrangement  ...    \\\n",
       "0             V4  gasoline               low            SOHC  ...     \n",
       "1             V3  gasoline              high            SOHC  ...     \n",
       "2             V2  gasoline              high            SOHC  ...     \n",
       "3            NaN  gasoline               low            SOHC  ...     \n",
       "4             V2  gasoline              high            SOHC  ...     \n",
       "\n",
       "  Cylinder deactivation Direct injection main bearing type displacement  \\\n",
       "0                    No              Yes            Roller         high   \n",
       "1                    No              Yes            Roller         high   \n",
       "2                   Yes              Yes            Roller         high   \n",
       "3                   Yes              Yes            Roller         high   \n",
       "4                    No              Yes            Roller         high   \n",
       "\n",
       "  piston type Max. Torque Peak Power Crankshaft Design Liner Design  tested  \n",
       "0      linear        high       high               CD2           LD1      1  \n",
       "1      linear        high       high               CD1           LD1      0  \n",
       "2      linear        high       high               CD1           LD1      1  \n",
       "3      linear        high       high               CD1           LD1      1  \n",
       "4      linear        high       high               CD1           LD2      0  \n",
       "\n",
       "[5 rows x 23 columns]"
      ]
     },
     "execution_count": 382,
     "metadata": {},
     "output_type": "execute_result"
    }
   ],
   "source": [
    "trainData.head()"
   ]
  },
  {
   "cell_type": "code",
   "execution_count": 383,
   "metadata": {},
   "outputs": [
    {
     "data": {
      "text/plain": [
       "Index(['ID', 'y', 'Number of Cylinders', 'material grade', 'Lubrication',\n",
       "       'Valve Type', 'Bearing Vendor', 'Fuel Type', 'Compression ratio',\n",
       "       'cam arrangement', 'Cylinder arragement', 'Turbocharger',\n",
       "       'Varaible Valve Timing (VVT)', 'Cylinder deactivation',\n",
       "       'Direct injection', 'main bearing type', 'displacement', 'piston type',\n",
       "       'Max. Torque', 'Peak Power', 'Crankshaft Design', 'Liner Design ',\n",
       "       'tested'],\n",
       "      dtype='object')"
      ]
     },
     "execution_count": 383,
     "metadata": {},
     "output_type": "execute_result"
    }
   ],
   "source": [
    "colNames = trainData.columns\n",
    "colNames"
   ]
  },
  {
   "cell_type": "code",
   "execution_count": 384,
   "metadata": {
    "collapsed": true
   },
   "outputs": [],
   "source": [
    "#cleanup_nums = {\"Number of Cylinders\": {\"four\": 4, \"six\": 6, \"five\": 5, \"eight\": 8,\n",
    "#                                  \"two\": 2, \"twelve\": 12, \"three\":3 }}\n",
    "#obj_df.replace(cleanup_nums, inplace=True)\n",
    "trainData['Number of Cylinders'] = trainData['Number of Cylinders'].astype('object')\n"
   ]
  },
  {
   "cell_type": "code",
   "execution_count": 385,
   "metadata": {},
   "outputs": [
    {
     "name": "stdout",
     "output_type": "stream",
     "text": [
      "<class 'pandas.core.frame.DataFrame'>\n",
      "RangeIndex: 3156 entries, 0 to 3155\n",
      "Data columns (total 23 columns):\n",
      "ID                             3156 non-null int64\n",
      "y                              3156 non-null object\n",
      "Number of Cylinders            2998 non-null object\n",
      "material grade                 2998 non-null object\n",
      "Lubrication                    2998 non-null object\n",
      "Valve Type                     2998 non-null object\n",
      "Bearing Vendor                 2998 non-null object\n",
      "Fuel Type                      2998 non-null object\n",
      "Compression ratio              2998 non-null object\n",
      "cam arrangement                2998 non-null object\n",
      "Cylinder arragement            2998 non-null object\n",
      "Turbocharger                   2998 non-null object\n",
      "Varaible Valve Timing (VVT)    2998 non-null object\n",
      "Cylinder deactivation          2998 non-null object\n",
      "Direct injection               2998 non-null object\n",
      "main bearing type              2998 non-null object\n",
      "displacement                   2998 non-null object\n",
      "piston type                    2998 non-null object\n",
      "Max. Torque                    2998 non-null object\n",
      "Peak Power                     2998 non-null object\n",
      "Crankshaft Design              2998 non-null object\n",
      "Liner Design                   2998 non-null object\n",
      "tested                         3156 non-null object\n",
      "dtypes: int64(1), object(22)\n",
      "memory usage: 567.2+ KB\n"
     ]
    }
   ],
   "source": [
    "#info method provides information about dataset like \n",
    "#total values in each column, null/not null, datatype, memory occupied etc\n",
    "trainData.info()"
   ]
  },
  {
   "cell_type": "code",
   "execution_count": null,
   "metadata": {},
   "outputs": [],
   "source": []
  },
  {
   "cell_type": "code",
   "execution_count": 386,
   "metadata": {},
   "outputs": [
    {
     "data": {
      "text/plain": [
       "Index(['y', 'Number of Cylinders', 'material grade', 'Lubrication',\n",
       "       'Valve Type', 'Bearing Vendor', 'Fuel Type', 'Compression ratio',\n",
       "       'cam arrangement', 'Cylinder arragement', 'Turbocharger',\n",
       "       'Varaible Valve Timing (VVT)', 'Cylinder deactivation',\n",
       "       'Direct injection', 'main bearing type', 'displacement', 'piston type',\n",
       "       'Max. Torque', 'Peak Power', 'Crankshaft Design', 'Liner Design ',\n",
       "       'tested'],\n",
       "      dtype='object')"
      ]
     },
     "execution_count": 386,
     "metadata": {},
     "output_type": "execute_result"
    }
   ],
   "source": [
    "### Drop ID column\n",
    "trainData = trainData.drop('ID', axis=1)\n",
    "trainData.columns\n"
   ]
  },
  {
   "cell_type": "code",
   "execution_count": 387,
   "metadata": {},
   "outputs": [
    {
     "data": {
      "text/plain": [
       "array([[6.0, 'a', 'L4', ..., 'CD2', 'LD1', '1'],\n",
       "       [6.0, 'b', 'L4', ..., 'CD1', 'LD1', '0'],\n",
       "       [4.0, nan, 'L3', ..., 'CD1', 'LD1', '1'],\n",
       "       ..., \n",
       "       [4.0, 'f', 'L3', ..., 'CD1', 'LD1', '0'],\n",
       "       [6.0, 'f', 'L2', ..., 'CD1', 'LD2', '0'],\n",
       "       [8.0, 'c', 'L2', ..., 'CD1', 'LD1', '0']], dtype=object)"
      ]
     },
     "execution_count": 387,
     "metadata": {},
     "output_type": "execute_result"
    }
   ],
   "source": [
    "values = trainData.values\n",
    "values[:,1:]"
   ]
  },
  {
   "cell_type": "code",
   "execution_count": 388,
   "metadata": {},
   "outputs": [
    {
     "data": {
      "text/plain": [
       "pandas.core.series.Series"
      ]
     },
     "execution_count": 388,
     "metadata": {},
     "output_type": "execute_result"
    }
   ],
   "source": [
    "type(trainData['Liner Design '])"
   ]
  },
  {
   "cell_type": "code",
   "execution_count": 389,
   "metadata": {},
   "outputs": [],
   "source": [
    "from sklearn.base import TransformerMixin\n",
    "class DataFrameImputer(TransformerMixin):\n",
    "\n",
    "    def __init__(self):\n",
    "        \"\"\"Impute missing values.\n",
    "\n",
    "        Columns of dtype object are imputed with the most frequent value \n",
    "        in column.\n",
    "\n",
    "        Columns of other types are imputed with mean of column.\n",
    "\n",
    "        \"\"\"\n",
    "    def fit(self, X, y=None):\n",
    "\n",
    "        self.fill = pd.Series([X[c].value_counts().index[0]\n",
    "            if X[c].dtype == np.dtype('O') else X[c].mean() for c in X],\n",
    "            index=X.columns)\n",
    "\n",
    "        return self\n",
    "\n",
    "    def transform(self, X, y=None):\n",
    "        return X.fillna(self.fill)\n",
    "    \n",
    "X = pd.DataFrame(trainData)"
   ]
  },
  {
   "cell_type": "code",
   "execution_count": 390,
   "metadata": {},
   "outputs": [
    {
     "data": {
      "text/plain": [
       "array([6.0, 4.0, 8.0, nan], dtype=object)"
      ]
     },
     "execution_count": 390,
     "metadata": {},
     "output_type": "execute_result"
    }
   ],
   "source": [
    "X['Number of Cylinders'].unique()"
   ]
  },
  {
   "cell_type": "code",
   "execution_count": 391,
   "metadata": {},
   "outputs": [],
   "source": [
    "dfImp = DataFrameImputer()\n",
    "dfImp.fit(X)\n",
    "train_Imputed = dfImp.fit_transform(X)"
   ]
  },
  {
   "cell_type": "code",
   "execution_count": 392,
   "metadata": {},
   "outputs": [
    {
     "data": {
      "text/plain": [
       "array([ 6.,  4.,  8.])"
      ]
     },
     "execution_count": 392,
     "metadata": {},
     "output_type": "execute_result"
    }
   ],
   "source": [
    "train_Imputed['Number of Cylinders'].unique()"
   ]
  },
  {
   "cell_type": "code",
   "execution_count": 393,
   "metadata": {},
   "outputs": [
    {
     "name": "stdout",
     "output_type": "stream",
     "text": [
      "<class 'pandas.core.frame.DataFrame'>\n",
      "RangeIndex: 3156 entries, 0 to 3155\n",
      "Data columns (total 22 columns):\n",
      "y                              3156 non-null object\n",
      "Number of Cylinders            3156 non-null float64\n",
      "material grade                 3156 non-null object\n",
      "Lubrication                    3156 non-null object\n",
      "Valve Type                     3156 non-null object\n",
      "Bearing Vendor                 3156 non-null object\n",
      "Fuel Type                      3156 non-null object\n",
      "Compression ratio              3156 non-null object\n",
      "cam arrangement                3156 non-null object\n",
      "Cylinder arragement            3156 non-null object\n",
      "Turbocharger                   3156 non-null object\n",
      "Varaible Valve Timing (VVT)    3156 non-null object\n",
      "Cylinder deactivation          3156 non-null object\n",
      "Direct injection               3156 non-null object\n",
      "main bearing type              3156 non-null object\n",
      "displacement                   3156 non-null object\n",
      "piston type                    3156 non-null object\n",
      "Max. Torque                    3156 non-null object\n",
      "Peak Power                     3156 non-null object\n",
      "Crankshaft Design              3156 non-null object\n",
      "Liner Design                   3156 non-null object\n",
      "tested                         3156 non-null object\n",
      "dtypes: float64(1), object(21)\n",
      "memory usage: 542.5+ KB\n"
     ]
    }
   ],
   "source": [
    "train_Imputed.isnull().sum()\n",
    "train_Imputed.info()"
   ]
  },
  {
   "cell_type": "code",
   "execution_count": 394,
   "metadata": {},
   "outputs": [
    {
     "data": {
      "text/html": [
       "<div>\n",
       "<style>\n",
       "    .dataframe thead tr:only-child th {\n",
       "        text-align: right;\n",
       "    }\n",
       "\n",
       "    .dataframe thead th {\n",
       "        text-align: left;\n",
       "    }\n",
       "\n",
       "    .dataframe tbody tr th {\n",
       "        vertical-align: top;\n",
       "    }\n",
       "</style>\n",
       "<table border=\"1\" class=\"dataframe\">\n",
       "  <thead>\n",
       "    <tr style=\"text-align: right;\">\n",
       "      <th></th>\n",
       "      <th>y</th>\n",
       "      <th>Number of Cylinders</th>\n",
       "      <th>material grade</th>\n",
       "      <th>Lubrication</th>\n",
       "      <th>Valve Type</th>\n",
       "      <th>Bearing Vendor</th>\n",
       "      <th>Fuel Type</th>\n",
       "      <th>Compression ratio</th>\n",
       "      <th>cam arrangement</th>\n",
       "      <th>Cylinder arragement</th>\n",
       "      <th>...</th>\n",
       "      <th>Cylinder deactivation</th>\n",
       "      <th>Direct injection</th>\n",
       "      <th>main bearing type</th>\n",
       "      <th>displacement</th>\n",
       "      <th>piston type</th>\n",
       "      <th>Max. Torque</th>\n",
       "      <th>Peak Power</th>\n",
       "      <th>Crankshaft Design</th>\n",
       "      <th>Liner Design</th>\n",
       "      <th>tested</th>\n",
       "    </tr>\n",
       "  </thead>\n",
       "  <tbody>\n",
       "    <tr>\n",
       "      <th>0</th>\n",
       "      <td>pass</td>\n",
       "      <td>6.0</td>\n",
       "      <td>a</td>\n",
       "      <td>L4</td>\n",
       "      <td>C</td>\n",
       "      <td>V4</td>\n",
       "      <td>gasoline</td>\n",
       "      <td>low</td>\n",
       "      <td>SOHC</td>\n",
       "      <td>inline</td>\n",
       "      <td>...</td>\n",
       "      <td>No</td>\n",
       "      <td>Yes</td>\n",
       "      <td>Roller</td>\n",
       "      <td>high</td>\n",
       "      <td>linear</td>\n",
       "      <td>high</td>\n",
       "      <td>high</td>\n",
       "      <td>CD2</td>\n",
       "      <td>LD1</td>\n",
       "      <td>1</td>\n",
       "    </tr>\n",
       "    <tr>\n",
       "      <th>1</th>\n",
       "      <td>fail</td>\n",
       "      <td>6.0</td>\n",
       "      <td>b</td>\n",
       "      <td>L4</td>\n",
       "      <td>C</td>\n",
       "      <td>V3</td>\n",
       "      <td>gasoline</td>\n",
       "      <td>high</td>\n",
       "      <td>SOHC</td>\n",
       "      <td>inline</td>\n",
       "      <td>...</td>\n",
       "      <td>No</td>\n",
       "      <td>Yes</td>\n",
       "      <td>Roller</td>\n",
       "      <td>high</td>\n",
       "      <td>linear</td>\n",
       "      <td>high</td>\n",
       "      <td>high</td>\n",
       "      <td>CD1</td>\n",
       "      <td>LD1</td>\n",
       "      <td>0</td>\n",
       "    </tr>\n",
       "    <tr>\n",
       "      <th>2</th>\n",
       "      <td>pass</td>\n",
       "      <td>4.0</td>\n",
       "      <td>c</td>\n",
       "      <td>L3</td>\n",
       "      <td>D</td>\n",
       "      <td>V2</td>\n",
       "      <td>gasoline</td>\n",
       "      <td>high</td>\n",
       "      <td>SOHC</td>\n",
       "      <td>inline</td>\n",
       "      <td>...</td>\n",
       "      <td>Yes</td>\n",
       "      <td>Yes</td>\n",
       "      <td>Roller</td>\n",
       "      <td>high</td>\n",
       "      <td>linear</td>\n",
       "      <td>high</td>\n",
       "      <td>high</td>\n",
       "      <td>CD1</td>\n",
       "      <td>LD1</td>\n",
       "      <td>1</td>\n",
       "    </tr>\n",
       "    <tr>\n",
       "      <th>3</th>\n",
       "      <td>pass</td>\n",
       "      <td>4.0</td>\n",
       "      <td>f</td>\n",
       "      <td>L2</td>\n",
       "      <td>D</td>\n",
       "      <td>V2</td>\n",
       "      <td>gasoline</td>\n",
       "      <td>low</td>\n",
       "      <td>SOHC</td>\n",
       "      <td>inline</td>\n",
       "      <td>...</td>\n",
       "      <td>Yes</td>\n",
       "      <td>Yes</td>\n",
       "      <td>Roller</td>\n",
       "      <td>high</td>\n",
       "      <td>linear</td>\n",
       "      <td>high</td>\n",
       "      <td>high</td>\n",
       "      <td>CD1</td>\n",
       "      <td>LD1</td>\n",
       "      <td>1</td>\n",
       "    </tr>\n",
       "    <tr>\n",
       "      <th>4</th>\n",
       "      <td>fail</td>\n",
       "      <td>8.0</td>\n",
       "      <td>d</td>\n",
       "      <td>L2</td>\n",
       "      <td>B</td>\n",
       "      <td>V2</td>\n",
       "      <td>gasoline</td>\n",
       "      <td>high</td>\n",
       "      <td>SOHC</td>\n",
       "      <td>inline</td>\n",
       "      <td>...</td>\n",
       "      <td>No</td>\n",
       "      <td>Yes</td>\n",
       "      <td>Roller</td>\n",
       "      <td>high</td>\n",
       "      <td>linear</td>\n",
       "      <td>high</td>\n",
       "      <td>high</td>\n",
       "      <td>CD1</td>\n",
       "      <td>LD2</td>\n",
       "      <td>0</td>\n",
       "    </tr>\n",
       "  </tbody>\n",
       "</table>\n",
       "<p>5 rows × 22 columns</p>\n",
       "</div>"
      ],
      "text/plain": [
       "      y  Number of Cylinders material grade Lubrication Valve Type  \\\n",
       "0  pass                  6.0              a          L4          C   \n",
       "1  fail                  6.0              b          L4          C   \n",
       "2  pass                  4.0              c          L3          D   \n",
       "3  pass                  4.0              f          L2          D   \n",
       "4  fail                  8.0              d          L2          B   \n",
       "\n",
       "  Bearing Vendor Fuel Type Compression ratio cam arrangement  \\\n",
       "0             V4  gasoline               low            SOHC   \n",
       "1             V3  gasoline              high            SOHC   \n",
       "2             V2  gasoline              high            SOHC   \n",
       "3             V2  gasoline               low            SOHC   \n",
       "4             V2  gasoline              high            SOHC   \n",
       "\n",
       "  Cylinder arragement  ...   Cylinder deactivation Direct injection  \\\n",
       "0              inline  ...                      No              Yes   \n",
       "1              inline  ...                      No              Yes   \n",
       "2              inline  ...                     Yes              Yes   \n",
       "3              inline  ...                     Yes              Yes   \n",
       "4              inline  ...                      No              Yes   \n",
       "\n",
       "  main bearing type displacement piston type Max. Torque Peak Power  \\\n",
       "0            Roller         high      linear        high       high   \n",
       "1            Roller         high      linear        high       high   \n",
       "2            Roller         high      linear        high       high   \n",
       "3            Roller         high      linear        high       high   \n",
       "4            Roller         high      linear        high       high   \n",
       "\n",
       "  Crankshaft Design Liner Design  tested  \n",
       "0               CD2           LD1      1  \n",
       "1               CD1           LD1      0  \n",
       "2               CD1           LD1      1  \n",
       "3               CD1           LD1      1  \n",
       "4               CD1           LD2      0  \n",
       "\n",
       "[5 rows x 22 columns]"
      ]
     },
     "execution_count": 394,
     "metadata": {},
     "output_type": "execute_result"
    }
   ],
   "source": [
    "train_Imputed.head()"
   ]
  },
  {
   "cell_type": "code",
   "execution_count": 395,
   "metadata": {},
   "outputs": [
    {
     "ename": "IndentationError",
     "evalue": "unexpected indent (<ipython-input-395-e0809f8b9517>, line 3)",
     "output_type": "error",
     "traceback": [
      "\u001b[0;36m  File \u001b[0;32m\"<ipython-input-395-e0809f8b9517>\"\u001b[0;36m, line \u001b[0;32m3\u001b[0m\n\u001b[0;31m    'cam arrangement', 'Cylinder arragement', 'Turbocharger',\u001b[0m\n\u001b[0m    ^\u001b[0m\n\u001b[0;31mIndentationError\u001b[0m\u001b[0;31m:\u001b[0m unexpected indent\n"
     ]
    }
   ],
   "source": [
    "'Number of Cylinders', 'material grade', 'Lubrication', \n",
    "'Valve Type', 'Bearing Vendor', 'Fuel Type', 'Compression ratio',\n",
    "       'cam arrangement', 'Cylinder arragement', 'Turbocharger',\n",
    "       'Varaible Valve Timing (VVT)', 'Cylinder deactivation',\n",
    "       'Direct injection', 'main bearing type', 'displacement', 'piston type',\n",
    "       'Max. Torque', 'Peak Power', 'Crankshaft Design', 'Liner Design ',\n",
    "       'tested'"
   ]
  },
  {
   "cell_type": "code",
   "execution_count": 396,
   "metadata": {},
   "outputs": [
    {
     "name": "stdout",
     "output_type": "stream",
     "text": [
      "['No' 'Yes']\n",
      "['L4' 'L3' 'L2' 'L1']\n",
      "['C' 'D' 'B' 'A']\n",
      "['V4' 'V3' 'V2' 'V6' 'V1' 'V5']\n",
      "['gasoline' 'petrol']\n",
      "['low' 'high']\n",
      "['SOHC' 'DOHC']\n",
      "['inline' 'V']\n",
      "['Yes' 'No']\n",
      "['Yes' 'No']\n"
     ]
    }
   ],
   "source": [
    "print(train_Imputed['Cylinder deactivation'].unique())\n",
    "print(train_Imputed['Lubrication'].unique())\n",
    "print(train_Imputed['Valve Type'].unique())\n",
    "print(train_Imputed['Bearing Vendor'].unique())\n",
    "print(train_Imputed['Fuel Type'].unique())\n",
    "\n",
    "print(train_Imputed['Compression ratio'].unique())\n",
    "print(train_Imputed['cam arrangement'].unique())\n",
    "print(train_Imputed['Cylinder arragement'].unique())\n",
    "print(train_Imputed['Turbocharger'].unique())\n",
    "print(train_Imputed['Varaible Valve Timing (VVT)'].unique())"
   ]
  },
  {
   "cell_type": "code",
   "execution_count": 397,
   "metadata": {},
   "outputs": [
    {
     "data": {
      "text/html": [
       "<div>\n",
       "<style>\n",
       "    .dataframe thead tr:only-child th {\n",
       "        text-align: right;\n",
       "    }\n",
       "\n",
       "    .dataframe thead th {\n",
       "        text-align: left;\n",
       "    }\n",
       "\n",
       "    .dataframe tbody tr th {\n",
       "        vertical-align: top;\n",
       "    }\n",
       "</style>\n",
       "<table border=\"1\" class=\"dataframe\">\n",
       "  <thead>\n",
       "    <tr style=\"text-align: right;\">\n",
       "      <th></th>\n",
       "      <th>y</th>\n",
       "      <th>Number of Cylinders</th>\n",
       "      <th>tested</th>\n",
       "      <th>material grade_a</th>\n",
       "      <th>material grade_b</th>\n",
       "      <th>material grade_c</th>\n",
       "      <th>material grade_d</th>\n",
       "      <th>material grade_e</th>\n",
       "      <th>material grade_f</th>\n",
       "      <th>material grade_g</th>\n",
       "      <th>...</th>\n",
       "      <th>piston type_linear</th>\n",
       "      <th>piston type_rotary</th>\n",
       "      <th>Max. Torque_high</th>\n",
       "      <th>Max. Torque_low</th>\n",
       "      <th>Peak Power_high</th>\n",
       "      <th>Peak Power_low</th>\n",
       "      <th>Crankshaft Design_CD1</th>\n",
       "      <th>Crankshaft Design_CD2</th>\n",
       "      <th>Liner Design _LD1</th>\n",
       "      <th>Liner Design _LD2</th>\n",
       "    </tr>\n",
       "  </thead>\n",
       "  <tbody>\n",
       "    <tr>\n",
       "      <th>0</th>\n",
       "      <td>pass</td>\n",
       "      <td>6.0</td>\n",
       "      <td>1</td>\n",
       "      <td>1</td>\n",
       "      <td>0</td>\n",
       "      <td>0</td>\n",
       "      <td>0</td>\n",
       "      <td>0</td>\n",
       "      <td>0</td>\n",
       "      <td>0</td>\n",
       "      <td>...</td>\n",
       "      <td>1</td>\n",
       "      <td>0</td>\n",
       "      <td>1</td>\n",
       "      <td>0</td>\n",
       "      <td>1</td>\n",
       "      <td>0</td>\n",
       "      <td>0</td>\n",
       "      <td>1</td>\n",
       "      <td>1</td>\n",
       "      <td>0</td>\n",
       "    </tr>\n",
       "    <tr>\n",
       "      <th>1</th>\n",
       "      <td>fail</td>\n",
       "      <td>6.0</td>\n",
       "      <td>0</td>\n",
       "      <td>0</td>\n",
       "      <td>1</td>\n",
       "      <td>0</td>\n",
       "      <td>0</td>\n",
       "      <td>0</td>\n",
       "      <td>0</td>\n",
       "      <td>0</td>\n",
       "      <td>...</td>\n",
       "      <td>1</td>\n",
       "      <td>0</td>\n",
       "      <td>1</td>\n",
       "      <td>0</td>\n",
       "      <td>1</td>\n",
       "      <td>0</td>\n",
       "      <td>1</td>\n",
       "      <td>0</td>\n",
       "      <td>1</td>\n",
       "      <td>0</td>\n",
       "    </tr>\n",
       "    <tr>\n",
       "      <th>2</th>\n",
       "      <td>pass</td>\n",
       "      <td>4.0</td>\n",
       "      <td>1</td>\n",
       "      <td>0</td>\n",
       "      <td>0</td>\n",
       "      <td>1</td>\n",
       "      <td>0</td>\n",
       "      <td>0</td>\n",
       "      <td>0</td>\n",
       "      <td>0</td>\n",
       "      <td>...</td>\n",
       "      <td>1</td>\n",
       "      <td>0</td>\n",
       "      <td>1</td>\n",
       "      <td>0</td>\n",
       "      <td>1</td>\n",
       "      <td>0</td>\n",
       "      <td>1</td>\n",
       "      <td>0</td>\n",
       "      <td>1</td>\n",
       "      <td>0</td>\n",
       "    </tr>\n",
       "    <tr>\n",
       "      <th>3</th>\n",
       "      <td>pass</td>\n",
       "      <td>4.0</td>\n",
       "      <td>1</td>\n",
       "      <td>0</td>\n",
       "      <td>0</td>\n",
       "      <td>0</td>\n",
       "      <td>0</td>\n",
       "      <td>0</td>\n",
       "      <td>1</td>\n",
       "      <td>0</td>\n",
       "      <td>...</td>\n",
       "      <td>1</td>\n",
       "      <td>0</td>\n",
       "      <td>1</td>\n",
       "      <td>0</td>\n",
       "      <td>1</td>\n",
       "      <td>0</td>\n",
       "      <td>1</td>\n",
       "      <td>0</td>\n",
       "      <td>1</td>\n",
       "      <td>0</td>\n",
       "    </tr>\n",
       "    <tr>\n",
       "      <th>4</th>\n",
       "      <td>fail</td>\n",
       "      <td>8.0</td>\n",
       "      <td>0</td>\n",
       "      <td>0</td>\n",
       "      <td>0</td>\n",
       "      <td>0</td>\n",
       "      <td>1</td>\n",
       "      <td>0</td>\n",
       "      <td>0</td>\n",
       "      <td>0</td>\n",
       "      <td>...</td>\n",
       "      <td>1</td>\n",
       "      <td>0</td>\n",
       "      <td>1</td>\n",
       "      <td>0</td>\n",
       "      <td>1</td>\n",
       "      <td>0</td>\n",
       "      <td>1</td>\n",
       "      <td>0</td>\n",
       "      <td>0</td>\n",
       "      <td>1</td>\n",
       "    </tr>\n",
       "  </tbody>\n",
       "</table>\n",
       "<p>5 rows × 54 columns</p>\n",
       "</div>"
      ],
      "text/plain": [
       "      y  Number of Cylinders tested  material grade_a  material grade_b  \\\n",
       "0  pass                  6.0      1                 1                 0   \n",
       "1  fail                  6.0      0                 0                 1   \n",
       "2  pass                  4.0      1                 0                 0   \n",
       "3  pass                  4.0      1                 0                 0   \n",
       "4  fail                  8.0      0                 0                 0   \n",
       "\n",
       "   material grade_c  material grade_d  material grade_e  material grade_f  \\\n",
       "0                 0                 0                 0                 0   \n",
       "1                 0                 0                 0                 0   \n",
       "2                 1                 0                 0                 0   \n",
       "3                 0                 0                 0                 1   \n",
       "4                 0                 1                 0                 0   \n",
       "\n",
       "   material grade_g        ...          piston type_linear  \\\n",
       "0                 0        ...                           1   \n",
       "1                 0        ...                           1   \n",
       "2                 0        ...                           1   \n",
       "3                 0        ...                           1   \n",
       "4                 0        ...                           1   \n",
       "\n",
       "   piston type_rotary  Max. Torque_high  Max. Torque_low  Peak Power_high  \\\n",
       "0                   0                 1                0                1   \n",
       "1                   0                 1                0                1   \n",
       "2                   0                 1                0                1   \n",
       "3                   0                 1                0                1   \n",
       "4                   0                 1                0                1   \n",
       "\n",
       "   Peak Power_low  Crankshaft Design_CD1  Crankshaft Design_CD2  \\\n",
       "0               0                      0                      1   \n",
       "1               0                      1                      0   \n",
       "2               0                      1                      0   \n",
       "3               0                      1                      0   \n",
       "4               0                      1                      0   \n",
       "\n",
       "   Liner Design _LD1  Liner Design _LD2  \n",
       "0                  1                  0  \n",
       "1                  1                  0  \n",
       "2                  1                  0  \n",
       "3                  1                  0  \n",
       "4                  0                  1  \n",
       "\n",
       "[5 rows x 54 columns]"
      ]
     },
     "execution_count": 397,
     "metadata": {},
     "output_type": "execute_result"
    }
   ],
   "source": [
    "#### one hot encoding\n",
    "\n",
    "\n",
    "\n",
    "\n",
    "\n",
    "train_Imputed = pd.get_dummies(train_Imputed, columns=['material grade', 'Lubrication', 'Valve Type', 'Bearing Vendor', 'Fuel Type', 'Compression ratio',\n",
    "                                       'cam arrangement', 'Cylinder arragement', 'Turbocharger',\n",
    "                                       'Varaible Valve Timing (VVT)', 'Cylinder deactivation',\n",
    "                                       'Direct injection', 'main bearing type', 'displacement', 'piston type',\n",
    "                                       'Max. Torque', 'Peak Power', 'Crankshaft Design', 'Liner Design '])\n",
    "train_Imputed.head()\n"
   ]
  },
  {
   "cell_type": "code",
   "execution_count": 398,
   "metadata": {},
   "outputs": [
    {
     "data": {
      "text/html": [
       "<div>\n",
       "<style>\n",
       "    .dataframe thead tr:only-child th {\n",
       "        text-align: right;\n",
       "    }\n",
       "\n",
       "    .dataframe thead th {\n",
       "        text-align: left;\n",
       "    }\n",
       "\n",
       "    .dataframe tbody tr th {\n",
       "        vertical-align: top;\n",
       "    }\n",
       "</style>\n",
       "<table border=\"1\" class=\"dataframe\">\n",
       "  <thead>\n",
       "    <tr style=\"text-align: right;\">\n",
       "      <th></th>\n",
       "      <th>y</th>\n",
       "      <th>Number of Cylinders</th>\n",
       "      <th>tested</th>\n",
       "      <th>material grade_a</th>\n",
       "      <th>material grade_b</th>\n",
       "      <th>material grade_c</th>\n",
       "      <th>material grade_d</th>\n",
       "      <th>material grade_e</th>\n",
       "      <th>material grade_f</th>\n",
       "      <th>material grade_g</th>\n",
       "      <th>...</th>\n",
       "      <th>piston type_linear</th>\n",
       "      <th>piston type_rotary</th>\n",
       "      <th>Max. Torque_high</th>\n",
       "      <th>Max. Torque_low</th>\n",
       "      <th>Peak Power_high</th>\n",
       "      <th>Peak Power_low</th>\n",
       "      <th>Crankshaft Design_CD1</th>\n",
       "      <th>Crankshaft Design_CD2</th>\n",
       "      <th>Liner Design _LD1</th>\n",
       "      <th>Liner Design _LD2</th>\n",
       "    </tr>\n",
       "  </thead>\n",
       "  <tbody>\n",
       "    <tr>\n",
       "      <th>0</th>\n",
       "      <td>1</td>\n",
       "      <td>6.0</td>\n",
       "      <td>1</td>\n",
       "      <td>1</td>\n",
       "      <td>0</td>\n",
       "      <td>0</td>\n",
       "      <td>0</td>\n",
       "      <td>0</td>\n",
       "      <td>0</td>\n",
       "      <td>0</td>\n",
       "      <td>...</td>\n",
       "      <td>1</td>\n",
       "      <td>0</td>\n",
       "      <td>1</td>\n",
       "      <td>0</td>\n",
       "      <td>1</td>\n",
       "      <td>0</td>\n",
       "      <td>0</td>\n",
       "      <td>1</td>\n",
       "      <td>1</td>\n",
       "      <td>0</td>\n",
       "    </tr>\n",
       "    <tr>\n",
       "      <th>1</th>\n",
       "      <td>0</td>\n",
       "      <td>6.0</td>\n",
       "      <td>0</td>\n",
       "      <td>0</td>\n",
       "      <td>1</td>\n",
       "      <td>0</td>\n",
       "      <td>0</td>\n",
       "      <td>0</td>\n",
       "      <td>0</td>\n",
       "      <td>0</td>\n",
       "      <td>...</td>\n",
       "      <td>1</td>\n",
       "      <td>0</td>\n",
       "      <td>1</td>\n",
       "      <td>0</td>\n",
       "      <td>1</td>\n",
       "      <td>0</td>\n",
       "      <td>1</td>\n",
       "      <td>0</td>\n",
       "      <td>1</td>\n",
       "      <td>0</td>\n",
       "    </tr>\n",
       "    <tr>\n",
       "      <th>2</th>\n",
       "      <td>1</td>\n",
       "      <td>4.0</td>\n",
       "      <td>1</td>\n",
       "      <td>0</td>\n",
       "      <td>0</td>\n",
       "      <td>1</td>\n",
       "      <td>0</td>\n",
       "      <td>0</td>\n",
       "      <td>0</td>\n",
       "      <td>0</td>\n",
       "      <td>...</td>\n",
       "      <td>1</td>\n",
       "      <td>0</td>\n",
       "      <td>1</td>\n",
       "      <td>0</td>\n",
       "      <td>1</td>\n",
       "      <td>0</td>\n",
       "      <td>1</td>\n",
       "      <td>0</td>\n",
       "      <td>1</td>\n",
       "      <td>0</td>\n",
       "    </tr>\n",
       "    <tr>\n",
       "      <th>3</th>\n",
       "      <td>1</td>\n",
       "      <td>4.0</td>\n",
       "      <td>1</td>\n",
       "      <td>0</td>\n",
       "      <td>0</td>\n",
       "      <td>0</td>\n",
       "      <td>0</td>\n",
       "      <td>0</td>\n",
       "      <td>1</td>\n",
       "      <td>0</td>\n",
       "      <td>...</td>\n",
       "      <td>1</td>\n",
       "      <td>0</td>\n",
       "      <td>1</td>\n",
       "      <td>0</td>\n",
       "      <td>1</td>\n",
       "      <td>0</td>\n",
       "      <td>1</td>\n",
       "      <td>0</td>\n",
       "      <td>1</td>\n",
       "      <td>0</td>\n",
       "    </tr>\n",
       "    <tr>\n",
       "      <th>4</th>\n",
       "      <td>0</td>\n",
       "      <td>8.0</td>\n",
       "      <td>0</td>\n",
       "      <td>0</td>\n",
       "      <td>0</td>\n",
       "      <td>0</td>\n",
       "      <td>1</td>\n",
       "      <td>0</td>\n",
       "      <td>0</td>\n",
       "      <td>0</td>\n",
       "      <td>...</td>\n",
       "      <td>1</td>\n",
       "      <td>0</td>\n",
       "      <td>1</td>\n",
       "      <td>0</td>\n",
       "      <td>1</td>\n",
       "      <td>0</td>\n",
       "      <td>1</td>\n",
       "      <td>0</td>\n",
       "      <td>0</td>\n",
       "      <td>1</td>\n",
       "    </tr>\n",
       "  </tbody>\n",
       "</table>\n",
       "<p>5 rows × 54 columns</p>\n",
       "</div>"
      ],
      "text/plain": [
       "   y  Number of Cylinders tested  material grade_a  material grade_b  \\\n",
       "0  1                  6.0      1                 1                 0   \n",
       "1  0                  6.0      0                 0                 1   \n",
       "2  1                  4.0      1                 0                 0   \n",
       "3  1                  4.0      1                 0                 0   \n",
       "4  0                  8.0      0                 0                 0   \n",
       "\n",
       "   material grade_c  material grade_d  material grade_e  material grade_f  \\\n",
       "0                 0                 0                 0                 0   \n",
       "1                 0                 0                 0                 0   \n",
       "2                 1                 0                 0                 0   \n",
       "3                 0                 0                 0                 1   \n",
       "4                 0                 1                 0                 0   \n",
       "\n",
       "   material grade_g        ...          piston type_linear  \\\n",
       "0                 0        ...                           1   \n",
       "1                 0        ...                           1   \n",
       "2                 0        ...                           1   \n",
       "3                 0        ...                           1   \n",
       "4                 0        ...                           1   \n",
       "\n",
       "   piston type_rotary  Max. Torque_high  Max. Torque_low  Peak Power_high  \\\n",
       "0                   0                 1                0                1   \n",
       "1                   0                 1                0                1   \n",
       "2                   0                 1                0                1   \n",
       "3                   0                 1                0                1   \n",
       "4                   0                 1                0                1   \n",
       "\n",
       "   Peak Power_low  Crankshaft Design_CD1  Crankshaft Design_CD2  \\\n",
       "0               0                      0                      1   \n",
       "1               0                      1                      0   \n",
       "2               0                      1                      0   \n",
       "3               0                      1                      0   \n",
       "4               0                      1                      0   \n",
       "\n",
       "   Liner Design _LD1  Liner Design _LD2  \n",
       "0                  1                  0  \n",
       "1                  1                  0  \n",
       "2                  1                  0  \n",
       "3                  1                  0  \n",
       "4                  0                  1  \n",
       "\n",
       "[5 rows x 54 columns]"
      ]
     },
     "execution_count": 398,
     "metadata": {},
     "output_type": "execute_result"
    }
   ],
   "source": [
    "cleanup_nums = {\"y\": {\"pass\": 1, \"fail\": 0}}\n",
    "train_Imputed.replace(cleanup_nums, inplace=True)\n",
    "train_Imputed.head()"
   ]
  },
  {
   "cell_type": "code",
   "execution_count": 399,
   "metadata": {},
   "outputs": [],
   "source": [
    "train_IV = train_Imputed[[col for col in train_Imputed.columns if \"y\" not in col]]\n",
    "train_DV = train_Imputed[[col for col in train_Imputed.columns if \"y\" == col]]"
   ]
  },
  {
   "cell_type": "code",
   "execution_count": 400,
   "metadata": {},
   "outputs": [],
   "source": [
    "# convert to numpy array for NN\n",
    "train_IV = train_IV.astype(np.float32).values\n",
    "train_DV = train_DV.astype(np.float32).values"
   ]
  },
  {
   "cell_type": "code",
   "execution_count": null,
   "metadata": {},
   "outputs": [],
   "source": []
  },
  {
   "cell_type": "code",
   "execution_count": 401,
   "metadata": {},
   "outputs": [],
   "source": [
    "from keras.models import Sequential\n",
    "from keras.layers import Dense\n",
    "from keras.models import Sequential, load_model\n",
    "from keras.layers import Dense, Dropout, BatchNormalization, Activation\n",
    "from keras.wrappers.scikit_learn import KerasRegressor"
   ]
  },
  {
   "cell_type": "code",
   "execution_count": 402,
   "metadata": {
    "collapsed": true
   },
   "outputs": [],
   "source": [
    "seed = 42\n",
    "np.random.seed(seed)"
   ]
  },
  {
   "cell_type": "code",
   "execution_count": 403,
   "metadata": {},
   "outputs": [],
   "source": [
    "# data split\n",
    "from sklearn.cross_validation import train_test_split"
   ]
  },
  {
   "cell_type": "code",
   "execution_count": 404,
   "metadata": {
    "collapsed": true
   },
   "outputs": [],
   "source": [
    "x_train, x_validation, y_train, y_validation = train_test_split(train_IV, train_DV, train_size=0.2)\n"
   ]
  },
  {
   "cell_type": "code",
   "execution_count": 405,
   "metadata": {},
   "outputs": [
    {
     "data": {
      "text/plain": [
       "(631, 38)"
      ]
     },
     "execution_count": 405,
     "metadata": {},
     "output_type": "execute_result"
    }
   ],
   "source": [
    "x_train.shape"
   ]
  },
  {
   "cell_type": "code",
   "execution_count": 416,
   "metadata": {},
   "outputs": [],
   "source": [
    "from keras import optimizers \n",
    "# Building an MLP model with single hidden layer\n",
    "mlpModel = Sequential()\n",
    "# input layer\n",
    "mlpModel.add(Dense(128, input_shape=(38,), activation='relu'))\n",
    "mlpModel.add(Dense(1, activation='relu'))\n",
    "\n",
    "SGD = optimizers.SGD(lr=0.1, decay=1e-6, momentum=0.9, nesterov=True)\n",
    "mlpModel.compile(optimizer=SGD, loss='binary_crossentropy', metrics=['accuracy'])"
   ]
  },
  {
   "cell_type": "code",
   "execution_count": 407,
   "metadata": {
    "collapsed": true
   },
   "outputs": [],
   "source": [
    "# Training the MLP on the 2D data\n",
    "#mlpModel.fit(x_train, y_train, epochs=100, verbose=2)"
   ]
  },
  {
   "cell_type": "code",
   "execution_count": 417,
   "metadata": {},
   "outputs": [
    {
     "name": "stdout",
     "output_type": "stream",
     "text": [
      "Train on 631 samples, validate on 2525 samples\n",
      "Epoch 1/20\n",
      "631/631 [==============================] - 0s 631us/step - loss: 7.4155 - acc: 0.0238 - val_loss: 7.7407 - val_acc: 0.0000e+00\n",
      "Epoch 2/20\n",
      "631/631 [==============================] - 0s 105us/step - loss: 7.6301 - acc: 0.0000e+00 - val_loss: 7.7407 - val_acc: 0.0000e+00\n",
      "Epoch 3/20\n",
      "631/631 [==============================] - 0s 101us/step - loss: 7.6301 - acc: 0.0000e+00 - val_loss: 7.7407 - val_acc: 0.0000e+00\n",
      "Epoch 4/20\n",
      "631/631 [==============================] - 0s 121us/step - loss: 7.6301 - acc: 0.0000e+00 - val_loss: 7.7407 - val_acc: 0.0000e+00\n",
      "Epoch 5/20\n",
      "631/631 [==============================] - 0s 128us/step - loss: 7.6301 - acc: 0.0000e+00 - val_loss: 7.7407 - val_acc: 0.0000e+00\n",
      "Epoch 6/20\n",
      "631/631 [==============================] - 0s 102us/step - loss: 7.6301 - acc: 0.0000e+00 - val_loss: 7.7407 - val_acc: 0.0000e+00\n",
      "Epoch 7/20\n",
      "631/631 [==============================] - 0s 94us/step - loss: 7.6301 - acc: 0.0000e+00 - val_loss: 7.7407 - val_acc: 0.0000e+00\n",
      "Epoch 8/20\n",
      "631/631 [==============================] - 0s 98us/step - loss: 7.6301 - acc: 0.0000e+00 - val_loss: 7.7407 - val_acc: 0.0000e+00\n",
      "Epoch 9/20\n",
      "631/631 [==============================] - 0s 116us/step - loss: 7.6301 - acc: 0.0000e+00 - val_loss: 7.7407 - val_acc: 0.0000e+00\n",
      "Epoch 10/20\n",
      "631/631 [==============================] - 0s 141us/step - loss: 7.6301 - acc: 0.0000e+00 - val_loss: 7.7407 - val_acc: 0.0000e+00\n",
      "Epoch 11/20\n",
      "631/631 [==============================] - 0s 143us/step - loss: 7.6301 - acc: 0.0000e+00 - val_loss: 7.7407 - val_acc: 0.0000e+00\n",
      "Epoch 12/20\n",
      "631/631 [==============================] - 0s 160us/step - loss: 7.6301 - acc: 0.0000e+00 - val_loss: 7.7407 - val_acc: 0.0000e+00\n",
      "Epoch 13/20\n",
      "631/631 [==============================] - 0s 149us/step - loss: 7.6301 - acc: 0.0000e+00 - val_loss: 7.7407 - val_acc: 0.0000e+00\n",
      "Epoch 14/20\n",
      "631/631 [==============================] - 0s 134us/step - loss: 7.6301 - acc: 0.0000e+00 - val_loss: 7.7407 - val_acc: 0.0000e+00\n",
      "Epoch 15/20\n",
      "631/631 [==============================] - 0s 135us/step - loss: 7.6301 - acc: 0.0000e+00 - val_loss: 7.7407 - val_acc: 0.0000e+00\n",
      "Epoch 16/20\n",
      "631/631 [==============================] - 0s 143us/step - loss: 7.6301 - acc: 0.0000e+00 - val_loss: 7.7407 - val_acc: 0.0000e+00\n",
      "Epoch 17/20\n",
      "631/631 [==============================] - 0s 150us/step - loss: 7.6301 - acc: 0.0000e+00 - val_loss: 7.7407 - val_acc: 0.0000e+00\n",
      "Epoch 18/20\n",
      "631/631 [==============================] - 0s 152us/step - loss: 7.6301 - acc: 0.0000e+00 - val_loss: 7.7407 - val_acc: 0.0000e+00\n",
      "Epoch 19/20\n",
      "631/631 [==============================] - 0s 131us/step - loss: 7.6301 - acc: 0.0000e+00 - val_loss: 7.7407 - val_acc: 0.0000e+00\n",
      "Epoch 20/20\n",
      "631/631 [==============================] - 0s 114us/step - loss: 7.6301 - acc: 0.0000e+00 - val_loss: 7.7407 - val_acc: 0.0000e+00\n"
     ]
    }
   ],
   "source": [
    "from keras.callbacks import ModelCheckpoint \n",
    "checkpoint = ModelCheckpoint(\"phd_mlp.h5\", save_best_only=True)\n",
    "callbacks_list = [checkpoint]\n",
    "deep_hist = mlpModel.fit(x_train, y_train,\n",
    "                    batch_size=32,\n",
    "                    epochs=20,\n",
    "                    validation_data=(x_validation, y_validation),callbacks=callbacks_list).history"
   ]
  },
  {
   "cell_type": "code",
   "execution_count": 409,
   "metadata": {},
   "outputs": [
    {
     "name": "stdout",
     "output_type": "stream",
     "text": [
      "_________________________________________________________________\n",
      "Layer (type)                 Output Shape              Param #   \n",
      "=================================================================\n",
      "dense_5 (Dense)              (None, 38)                1482      \n",
      "_________________________________________________________________\n",
      "dense_6 (Dense)              (None, 1)                 39        \n",
      "=================================================================\n",
      "Total params: 1,521\n",
      "Trainable params: 1,521\n",
      "Non-trainable params: 0\n",
      "_________________________________________________________________\n"
     ]
    }
   ],
   "source": [
    "mlpModel.summary()"
   ]
  },
  {
   "cell_type": "code",
   "execution_count": null,
   "metadata": {
    "collapsed": true
   },
   "outputs": [],
   "source": []
  },
  {
   "cell_type": "code",
   "execution_count": 418,
   "metadata": {},
   "outputs": [
    {
     "name": "stdout",
     "output_type": "stream",
     "text": [
      "2525/2525 [==============================] - 0s 24us/step\n",
      "[7.7407381078512358, 0.0]\n"
     ]
    }
   ],
   "source": [
    "score = mlpModel.evaluate(x_validation, y_validation)\n",
    "print(score)"
   ]
  },
  {
   "cell_type": "code",
   "execution_count": 422,
   "metadata": {},
   "outputs": [
    {
     "name": "stdout",
     "output_type": "stream",
     "text": [
      "   Number of Cylinders tested  material grade_a  material grade_b  \\\n",
      "0                  4.0      0                 0                 0   \n",
      "1                  8.0      0                 0                 0   \n",
      "2                  8.0      1                 0                 0   \n",
      "3                  8.0      0                 0                 0   \n",
      "4                  4.0      0                 0                 0   \n",
      "\n",
      "   material grade_c  material grade_d  material grade_e  material grade_f  \\\n",
      "0                 1                 0                 0                 0   \n",
      "1                 0                 0                 1                 0   \n",
      "2                 1                 0                 0                 0   \n",
      "3                 1                 0                 0                 0   \n",
      "4                 0                 0                 0                 1   \n",
      "\n",
      "   material grade_g  Lubrication_L1        ...          piston type_linear  \\\n",
      "0                 0               1        ...                           1   \n",
      "1                 0               1        ...                           1   \n",
      "2                 0               1        ...                           1   \n",
      "3                 0               1        ...                           1   \n",
      "4                 0               0        ...                           1   \n",
      "\n",
      "   piston type_rotary  Max. Torque_high  Max. Torque_low  Peak Power_high  \\\n",
      "0                   0                 1                0                0   \n",
      "1                   0                 1                0                1   \n",
      "2                   0                 1                0                1   \n",
      "3                   0                 1                0                0   \n",
      "4                   0                 1                0                1   \n",
      "\n",
      "   Peak Power_low  Crankshaft Design_CD1  Crankshaft Design_CD2  \\\n",
      "0               1                      1                      0   \n",
      "1               0                      1                      0   \n",
      "2               0                      1                      0   \n",
      "3               1                      1                      0   \n",
      "4               0                      1                      0   \n",
      "\n",
      "   Liner Design _LD1  Liner Design _LD2  \n",
      "0                  1                  0  \n",
      "1                  0                  1  \n",
      "2                  0                  1  \n",
      "3                  0                  1  \n",
      "4                  1                  0  \n",
      "\n",
      "[5 rows x 52 columns]\n"
     ]
    }
   ],
   "source": [
    "testData = addTestsToData(testOriginal, testAdditional)\n",
    "testData['Number of Cylinders'] = testData['Number of Cylinders'].astype('object')\n",
    "testIDs = testData[['ID']]\n",
    "testData = testData.drop('ID', axis=1)\n",
    "\n",
    "dfImp_test = DataFrameImputer()\n",
    "dfImp_test.fit(testData)\n",
    "test_Imputed = dfImp_test.fit_transform(testData)\n",
    "\n",
    "test_Imputed = pd.get_dummies(test_Imputed, columns=['material grade', 'Lubrication', 'Valve Type', 'Bearing Vendor', 'Fuel Type', 'Compression ratio',\n",
    "                                       'cam arrangement', 'Cylinder arragement', 'Turbocharger',\n",
    "                                       'Varaible Valve Timing (VVT)', 'Cylinder deactivation',\n",
    "                                       'Direct injection', 'main bearing type', 'displacement', 'piston type',\n",
    "                                       'Max. Torque', 'Peak Power', 'Crankshaft Design', 'Liner Design '])\n",
    "print(test_Imputed.head())"
   ]
  },
  {
   "cell_type": "code",
   "execution_count": 423,
   "metadata": {},
   "outputs": [],
   "source": [
    "# convert to numpy array for NN\n",
    "test_Imputed = test_Imputed.astype(np.float32).values\n"
   ]
  },
  {
   "cell_type": "code",
   "execution_count": 424,
   "metadata": {},
   "outputs": [
    {
     "ename": "ValueError",
     "evalue": "Error when checking : expected dense_9_input to have shape (None, 38) but got array with shape (1053, 52)",
     "output_type": "error",
     "traceback": [
      "\u001b[0;31m---------------------------------------------------------------------------\u001b[0m",
      "\u001b[0;31mValueError\u001b[0m                                Traceback (most recent call last)",
      "\u001b[0;32m<ipython-input-424-d17a598a41fc>\u001b[0m in \u001b[0;36m<module>\u001b[0;34m()\u001b[0m\n\u001b[1;32m      1\u001b[0m \u001b[0;31m# float to [0,1]\u001b[0m\u001b[0;34m\u001b[0m\u001b[0;34m\u001b[0m\u001b[0m\n\u001b[0;32m----> 2\u001b[0;31m \u001b[0mpredictions\u001b[0m \u001b[0;34m=\u001b[0m \u001b[0mnp\u001b[0m\u001b[0;34m.\u001b[0m\u001b[0mround\u001b[0m\u001b[0;34m(\u001b[0m\u001b[0mmlpModel\u001b[0m\u001b[0;34m.\u001b[0m\u001b[0mpredict\u001b[0m\u001b[0;34m(\u001b[0m\u001b[0mtest_Imputed\u001b[0m\u001b[0;34m)\u001b[0m\u001b[0;34m)\u001b[0m\u001b[0;34m\u001b[0m\u001b[0m\n\u001b[0m",
      "\u001b[0;32m~/anaconda3/lib/python3.6/site-packages/keras/models.py\u001b[0m in \u001b[0;36mpredict\u001b[0;34m(self, x, batch_size, verbose)\u001b[0m\n\u001b[1;32m   1004\u001b[0m         \u001b[0;32mif\u001b[0m \u001b[0;32mnot\u001b[0m \u001b[0mself\u001b[0m\u001b[0;34m.\u001b[0m\u001b[0mbuilt\u001b[0m\u001b[0;34m:\u001b[0m\u001b[0;34m\u001b[0m\u001b[0m\n\u001b[1;32m   1005\u001b[0m             \u001b[0mself\u001b[0m\u001b[0;34m.\u001b[0m\u001b[0mbuild\u001b[0m\u001b[0;34m(\u001b[0m\u001b[0;34m)\u001b[0m\u001b[0;34m\u001b[0m\u001b[0m\n\u001b[0;32m-> 1006\u001b[0;31m         \u001b[0;32mreturn\u001b[0m \u001b[0mself\u001b[0m\u001b[0;34m.\u001b[0m\u001b[0mmodel\u001b[0m\u001b[0;34m.\u001b[0m\u001b[0mpredict\u001b[0m\u001b[0;34m(\u001b[0m\u001b[0mx\u001b[0m\u001b[0;34m,\u001b[0m \u001b[0mbatch_size\u001b[0m\u001b[0;34m=\u001b[0m\u001b[0mbatch_size\u001b[0m\u001b[0;34m,\u001b[0m \u001b[0mverbose\u001b[0m\u001b[0;34m=\u001b[0m\u001b[0mverbose\u001b[0m\u001b[0;34m)\u001b[0m\u001b[0;34m\u001b[0m\u001b[0m\n\u001b[0m\u001b[1;32m   1007\u001b[0m \u001b[0;34m\u001b[0m\u001b[0m\n\u001b[1;32m   1008\u001b[0m     \u001b[0;32mdef\u001b[0m \u001b[0mpredict_on_batch\u001b[0m\u001b[0;34m(\u001b[0m\u001b[0mself\u001b[0m\u001b[0;34m,\u001b[0m \u001b[0mx\u001b[0m\u001b[0;34m)\u001b[0m\u001b[0;34m:\u001b[0m\u001b[0;34m\u001b[0m\u001b[0m\n",
      "\u001b[0;32m~/anaconda3/lib/python3.6/site-packages/keras/engine/training.py\u001b[0m in \u001b[0;36mpredict\u001b[0;34m(self, x, batch_size, verbose, steps)\u001b[0m\n\u001b[1;32m   1770\u001b[0m         x = _standardize_input_data(x, self._feed_input_names,\n\u001b[1;32m   1771\u001b[0m                                     \u001b[0mself\u001b[0m\u001b[0;34m.\u001b[0m\u001b[0m_feed_input_shapes\u001b[0m\u001b[0;34m,\u001b[0m\u001b[0;34m\u001b[0m\u001b[0m\n\u001b[0;32m-> 1772\u001b[0;31m                                     check_batch_axis=False)\n\u001b[0m\u001b[1;32m   1773\u001b[0m         \u001b[0;32mif\u001b[0m \u001b[0mself\u001b[0m\u001b[0;34m.\u001b[0m\u001b[0mstateful\u001b[0m\u001b[0;34m:\u001b[0m\u001b[0;34m\u001b[0m\u001b[0m\n\u001b[1;32m   1774\u001b[0m             \u001b[0;32mif\u001b[0m \u001b[0mx\u001b[0m\u001b[0;34m[\u001b[0m\u001b[0;36m0\u001b[0m\u001b[0;34m]\u001b[0m\u001b[0;34m.\u001b[0m\u001b[0mshape\u001b[0m\u001b[0;34m[\u001b[0m\u001b[0;36m0\u001b[0m\u001b[0;34m]\u001b[0m \u001b[0;34m>\u001b[0m \u001b[0mbatch_size\u001b[0m \u001b[0;32mand\u001b[0m \u001b[0mx\u001b[0m\u001b[0;34m[\u001b[0m\u001b[0;36m0\u001b[0m\u001b[0;34m]\u001b[0m\u001b[0;34m.\u001b[0m\u001b[0mshape\u001b[0m\u001b[0;34m[\u001b[0m\u001b[0;36m0\u001b[0m\u001b[0;34m]\u001b[0m \u001b[0;34m%\u001b[0m \u001b[0mbatch_size\u001b[0m \u001b[0;34m!=\u001b[0m \u001b[0;36m0\u001b[0m\u001b[0;34m:\u001b[0m\u001b[0;34m\u001b[0m\u001b[0m\n",
      "\u001b[0;32m~/anaconda3/lib/python3.6/site-packages/keras/engine/training.py\u001b[0m in \u001b[0;36m_standardize_input_data\u001b[0;34m(data, names, shapes, check_batch_axis, exception_prefix)\u001b[0m\n\u001b[1;32m    151\u001b[0m                             \u001b[0;34m' to have shape '\u001b[0m \u001b[0;34m+\u001b[0m \u001b[0mstr\u001b[0m\u001b[0;34m(\u001b[0m\u001b[0mshapes\u001b[0m\u001b[0;34m[\u001b[0m\u001b[0mi\u001b[0m\u001b[0;34m]\u001b[0m\u001b[0;34m)\u001b[0m \u001b[0;34m+\u001b[0m\u001b[0;34m\u001b[0m\u001b[0m\n\u001b[1;32m    152\u001b[0m                             \u001b[0;34m' but got array with shape '\u001b[0m \u001b[0;34m+\u001b[0m\u001b[0;34m\u001b[0m\u001b[0m\n\u001b[0;32m--> 153\u001b[0;31m                             str(array.shape))\n\u001b[0m\u001b[1;32m    154\u001b[0m     \u001b[0;32mreturn\u001b[0m \u001b[0marrays\u001b[0m\u001b[0;34m\u001b[0m\u001b[0m\n\u001b[1;32m    155\u001b[0m \u001b[0;34m\u001b[0m\u001b[0m\n",
      "\u001b[0;31mValueError\u001b[0m: Error when checking : expected dense_9_input to have shape (None, 38) but got array with shape (1053, 52)"
     ]
    }
   ],
   "source": [
    "# float to [0,1]\n",
    "predictions = np.round(mlpModel.predict(test_Imputed))"
   ]
  },
  {
   "cell_type": "code",
   "execution_count": null,
   "metadata": {
    "collapsed": true
   },
   "outputs": [],
   "source": [
    "predictions = pd.DataFrame(predictions)\n"
   ]
  },
  {
   "cell_type": "code",
   "execution_count": null,
   "metadata": {
    "collapsed": true
   },
   "outputs": [],
   "source": [
    "# result\n",
    "result = pd.concat([testIDs, predictions], axis = 1)\n",
    "result.columns = ['ID', 'y']\n"
   ]
  },
  {
   "cell_type": "code",
   "execution_count": null,
   "metadata": {
    "collapsed": true
   },
   "outputs": [],
   "source": [
    "predictions.to_csv(\"imp.csv\", index=False)\n"
   ]
  },
  {
   "cell_type": "code",
   "execution_count": null,
   "metadata": {},
   "outputs": [],
   "source": [
    "predict = mlpModel.predict_classes(test_Imputed)\n",
    "np.savetxt(\"mlp.csv\", predict, delimiter=\",\")"
   ]
  },
  {
   "cell_type": "code",
   "execution_count": null,
   "metadata": {
    "collapsed": true
   },
   "outputs": [],
   "source": []
  }
 ],
 "metadata": {
  "kernelspec": {
   "display_name": "Python 3",
   "language": "python",
   "name": "python3"
  },
  "language_info": {
   "codemirror_mode": {
    "name": "ipython",
    "version": 3
   },
   "file_extension": ".py",
   "mimetype": "text/x-python",
   "name": "python",
   "nbconvert_exporter": "python",
   "pygments_lexer": "ipython3",
   "version": "3.6.3"
  }
 },
 "nbformat": 4,
 "nbformat_minor": 2
}
